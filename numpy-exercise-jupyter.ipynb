{
 "cells": [
  {
   "cell_type": "markdown",
   "id": "9eefbcc0-948f-4031-9e05-3dddd1f8460f",
   "metadata": {},
   "source": [
    "Numpy exercise"
   ]
  },
  {
   "cell_type": "markdown",
   "id": "9e0da373-9552-417b-89b5-51be0e226d50",
   "metadata": {},
   "source": [
    "Create and print array in NumPy"
   ]
  },
  {
   "cell_type": "code",
   "execution_count": 2,
   "id": "f9b1f97d-4ddf-4add-b3ea-0cbd03fd6b8d",
   "metadata": {},
   "outputs": [
    {
     "name": "stdout",
     "output_type": "stream",
     "text": [
      "[1 2 3 4 5]\n"
     ]
    }
   ],
   "source": [
    "import numpy as np\n",
    "\n",
    "arr = np.array([1,2,3,4,5])\n",
    "print(arr)"
   ]
  },
  {
   "cell_type": "markdown",
   "id": "79558522-9bd2-4f7c-b0d6-eb042f5fb2dd",
   "metadata": {},
   "source": [
    "Find the shape of array"
   ]
  },
  {
   "cell_type": "code",
   "execution_count": 5,
   "id": "57b1221b-c0d4-4744-8a75-f3c572adff6e",
   "metadata": {},
   "outputs": [
    {
     "name": "stdout",
     "output_type": "stream",
     "text": [
      "shape of array (5,)\n"
     ]
    }
   ],
   "source": [
    "print('shape of array', arr.shape)"
   ]
  },
  {
   "cell_type": "markdown",
   "id": "42360343-2f03-4026-a9bb-e3e21ee6d822",
   "metadata": {},
   "source": [
    "Create 2-dimensional array and print it's shape"
   ]
  },
  {
   "cell_type": "code",
   "execution_count": 7,
   "id": "09aab79d-fd50-49cd-84be-6927850ff732",
   "metadata": {},
   "outputs": [
    {
     "name": "stdout",
     "output_type": "stream",
     "text": [
      "Array is--- [[1 2 3]\n",
      " [4 5 6]]\n",
      "Shape of array is --- (2, 3)\n"
     ]
    }
   ],
   "source": [
    "arr_2d = np.array([[1,2,3], [4,5,6]])\n",
    "print('Array is---',arr_2d)\n",
    "print('Shape of array is ---', arr_2d.shape)"
   ]
  },
  {
   "cell_type": "markdown",
   "id": "9581d4f7-0b7f-4115-856f-3669e6617c57",
   "metadata": {},
   "source": [
    "Create one 2-d array and multiply it's elements by 10"
   ]
  },
  {
   "cell_type": "code",
   "execution_count": 8,
   "id": "5fd6e347-e05c-47f3-a9a3-05064b20e433",
   "metadata": {},
   "outputs": [
    {
     "name": "stdout",
     "output_type": "stream",
     "text": [
      "The array is  [[1 2 3]\n",
      " [4 5 6]]\n",
      "Multiplied array [[10 20 30]\n",
      " [40 50 60]]\n"
     ]
    }
   ],
   "source": [
    "arr_1d = np.array([[1,2,3], [4,5,6]])\n",
    "print('The array is ', arr_1d)\n",
    "multiplied_arr = arr_1d*10\n",
    "print('Multiplied array', multiplied_arr)"
   ]
  },
  {
   "cell_type": "markdown",
   "id": "758333be-64fc-409e-af36-3c802a928043",
   "metadata": {},
   "source": [
    "Create two 2D arrays and multiply them"
   ]
  },
  {
   "cell_type": "code",
   "execution_count": 17,
   "id": "86df3fc1-c80c-4cf8-a29e-ffc7ce0c08e5",
   "metadata": {},
   "outputs": [
    {
     "name": "stdout",
     "output_type": "stream",
     "text": [
      "array 1 (2, 3)\n",
      "[[1 2 3]\n",
      " [4 5 6]]\n",
      "array 2 (2, 3)\n",
      "[[ 1  3  5]\n",
      " [ 7  9 11]]\n",
      "Multiplied array\n",
      "[[ 1  6 15]\n",
      " [28 45 66]]\n"
     ]
    }
   ],
   "source": [
    "arr1 = np.array([[1,2,3],[4,5,6]])\n",
    "arr2 = np.array([[1,3,5],[7,9,11]])\n",
    "print('array 1', arr1.shape)\n",
    "print(arr1)\n",
    "print('array 2', arr2.shape)\n",
    "print(arr2)\n",
    "multiplied_array = arr1*arr2\n",
    "print('Multiplied array')\n",
    "print(multiplied_array)"
   ]
  },
  {
   "cell_type": "markdown",
   "id": "fec45a51-9bb6-4945-bce7-1013f9c2256d",
   "metadata": {},
   "source": [
    "COPY ARRAY FROM ANOTHER ARRAY AND CHECK IF IT IS A VIEW OR COPY"
   ]
  },
  {
   "cell_type": "code",
   "execution_count": 23,
   "id": "01014488-6921-49ff-a03b-708a8c9a680c",
   "metadata": {},
   "outputs": [
    {
     "name": "stdout",
     "output_type": "stream",
     "text": [
      "[1 2 3]\n",
      "[1 2 3]\n",
      "None\n",
      "Original array [1 2 3]\n",
      "Copied array after changes [ 1  2 10]\n"
     ]
    }
   ],
   "source": [
    "arr1 = np.array([1,2,3])\n",
    "print(arr1)\n",
    "copy_arr1 = arr1.copy()\n",
    "print(copy_arr1)\n",
    "print(copy_arr1.base) #base None means it owns the data and changes to copied array will not be reflected in the original array\n",
    "copy_arr1[2]=10\n",
    "print('Original array', arr1)\n",
    "print('Copied array after changes',copy_arr1)"
   ]
  },
  {
   "cell_type": "markdown",
   "id": "c81896b5-112f-4f52-b9f2-d34274f36155",
   "metadata": {},
   "source": [
    "SLICING IN NUMPY ARRAY, ALSO CHECK IT IS A VIEW OR COPY, OWNS DATA OR NOT"
   ]
  },
  {
   "cell_type": "code",
   "execution_count": 27,
   "id": "03d6e59b-7968-4d6d-afec-494b8fe88797",
   "metadata": {},
   "outputs": [
    {
     "name": "stdout",
     "output_type": "stream",
     "text": [
      "[2 3]\n",
      "[1 2 3 4 5]\n"
     ]
    }
   ],
   "source": [
    "arr = np.array([1,2,3,4,5])\n",
    "sliced_arr = arr[1:3]\n",
    "print(sliced_arr)\n",
    "print(sliced_arr.base)"
   ]
  },
  {
   "cell_type": "code",
   "execution_count": null,
   "id": "161ea158-ef69-4631-964d-0228ff14cd25",
   "metadata": {},
   "outputs": [],
   "source": []
  },
  {
   "cell_type": "code",
   "execution_count": null,
   "id": "0ce49e01-493d-4c95-bf7a-e517b88539fd",
   "metadata": {},
   "outputs": [],
   "source": []
  }
 ],
 "metadata": {
  "kernelspec": {
   "display_name": "Python 3 (ipykernel)",
   "language": "python",
   "name": "python3"
  },
  "language_info": {
   "codemirror_mode": {
    "name": "ipython",
    "version": 3
   },
   "file_extension": ".py",
   "mimetype": "text/x-python",
   "name": "python",
   "nbconvert_exporter": "python",
   "pygments_lexer": "ipython3",
   "version": "3.8.10"
  }
 },
 "nbformat": 4,
 "nbformat_minor": 5
}
