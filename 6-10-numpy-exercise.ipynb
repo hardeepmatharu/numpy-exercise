{
 "cells": [
  {
   "cell_type": "code",
   "execution_count": 27,
   "id": "b492f50d-1d07-4c33-98de-763cf1d7687f",
   "metadata": {},
   "outputs": [],
   "source": [
    "import numpy as np\n",
    "import random"
   ]
  },
  {
   "cell_type": "markdown",
   "id": "c0fea236-7a84-4617-8283-6939137d8cff",
   "metadata": {},
   "source": [
    "# 6. Test for Infinity"
   ]
  },
  {
   "cell_type": "markdown",
   "id": "048c4825-168e-4552-afef-e4abb64cdf02",
   "metadata": {},
   "source": [
    "## Write a NumPy program to test elements-wise for positive or negative infinity. "
   ]
  },
  {
   "cell_type": "code",
   "execution_count": 4,
   "id": "3878dcba-4466-4255-881a-48b6a923d7d2",
   "metadata": {},
   "outputs": [
    {
     "name": "stdout",
     "output_type": "stream",
     "text": [
      "Positive infinity [False False False  True False False False False]\n",
      "Negative infinity [False False False False False False False  True]\n"
     ]
    }
   ],
   "source": [
    "arr1 = np.array([1,2,3,np.inf,4,5,6,-np.inf])\n",
    "res_pos = np.isposinf(arr1) # check positive infinity\n",
    "print('Positive infinity',res_pos)\n",
    "\n",
    "res_neg = np.isneginf(arr1) # check negative infinity\n",
    "print('Negative infinity',res_neg)"
   ]
  },
  {
   "cell_type": "markdown",
   "id": "52b395e1-6a91-4116-8630-27cef391ae23",
   "metadata": {},
   "source": [
    "# 7. Test for NaN"
   ]
  },
  {
   "cell_type": "markdown",
   "id": "afe29907-e1ca-4ac3-a7b4-5f35807aa3c5",
   "metadata": {},
   "source": [
    "## Write a NumPy program to test element-wise for NaN of a given array."
   ]
  },
  {
   "cell_type": "code",
   "execution_count": 12,
   "id": "f7f719d2-b0ee-4638-b922-2c756ff32263",
   "metadata": {},
   "outputs": [
    {
     "data": {
      "text/plain": [
       "array([ 1., nan,  2., nan,  4.,  6.])"
      ]
     },
     "execution_count": 12,
     "metadata": {},
     "output_type": "execute_result"
    }
   ],
   "source": [
    "arr1 = np.array([1,np.nan,2,np.nan,4,6])\n",
    "arr1"
   ]
  },
  {
   "cell_type": "code",
   "execution_count": 11,
   "id": "4c73ea92-b81e-43d6-88b5-96a07b656920",
   "metadata": {},
   "outputs": [
    {
     "name": "stdout",
     "output_type": "stream",
     "text": [
      "[False  True False  True False False]\n"
     ]
    }
   ],
   "source": [
    "res=np.isnan(arr1)\n",
    "print(res)"
   ]
  },
  {
   "cell_type": "markdown",
   "id": "0fd7b138-64b4-4dea-852f-862fd3367f2b",
   "metadata": {},
   "source": [
    "## Replace all NaN values in an array with the average of its non-NaN elements."
   ]
  },
  {
   "cell_type": "code",
   "execution_count": 13,
   "id": "e7b1718b-2a01-4ed5-af57-a1f1ec866fd4",
   "metadata": {},
   "outputs": [
    {
     "data": {
      "text/plain": [
       "array([ 1.,  2., nan,  4.,  5., nan])"
      ]
     },
     "execution_count": 13,
     "metadata": {},
     "output_type": "execute_result"
    }
   ],
   "source": [
    "arr1 = np.array([1,2,np.nan, 4,5,np.nan])\n",
    "arr1"
   ]
  },
  {
   "cell_type": "code",
   "execution_count": 17,
   "id": "7f3c63fd-240b-4782-9773-72f0fd2e5831",
   "metadata": {},
   "outputs": [
    {
     "data": {
      "text/plain": [
       "3.0"
      ]
     },
     "execution_count": 17,
     "metadata": {},
     "output_type": "execute_result"
    }
   ],
   "source": [
    "mean_nan = np.nanmean(arr1) #nanmean() mean of all non nan elements, it ignores nan values\n",
    "mean_nan"
   ]
  },
  {
   "cell_type": "code",
   "execution_count": 24,
   "id": "09dfc74a-b5a4-4512-97c1-2bcaf7e50fb4",
   "metadata": {},
   "outputs": [
    {
     "data": {
      "text/plain": [
       "array([1., 2., 3., 4., 5., 3.])"
      ]
     },
     "execution_count": 24,
     "metadata": {},
     "output_type": "execute_result"
    }
   ],
   "source": [
    "new_arr = np.where(np.isnan(arr1),mean_nan, arr1)  # syntax of where(condition [,x,y]), it returns index of the satisfied condition, it returns x if True else y\n",
    "new_arr"
   ]
  },
  {
   "cell_type": "markdown",
   "id": "e3328ace-6462-4905-854a-929684aa444e",
   "metadata": {},
   "source": [
    "## Find and return the indices of NaN values in a large 2D array."
   ]
  },
  {
   "cell_type": "code",
   "execution_count": 18,
   "id": "bda7583a-cd1f-4b99-8351-a194f8410eb1",
   "metadata": {},
   "outputs": [
    {
     "data": {
      "text/plain": [
       "array([[ 1.,  2., nan,  3.],\n",
       "       [nan,  4.,  5., nan]])"
      ]
     },
     "execution_count": 18,
     "metadata": {},
     "output_type": "execute_result"
    }
   ],
   "source": [
    "arr_2D = np.array([[1,2,np.nan,3],[np.nan,4,5,np.nan]])\n",
    "arr_2D"
   ]
  },
  {
   "cell_type": "code",
   "execution_count": 23,
   "id": "f2ec0f4d-0b95-472e-b61f-77ae137dd53a",
   "metadata": {},
   "outputs": [
    {
     "name": "stdout",
     "output_type": "stream",
     "text": [
      "(array([0, 1, 1]), array([2, 0, 3]))\n",
      "[(0, 2), (1, 0), (1, 3)]\n"
     ]
    }
   ],
   "source": [
    "new_arr_index = np.where(np.isnan(arr_2D))\n",
    "print(new_arr_index) # need to zip both index arrays to find the real indices\n",
    "print(list(zip(new_arr_index[0],new_arr_index[1])))"
   ]
  },
  {
   "cell_type": "markdown",
   "id": "a8f375fd-85a6-4de4-8e9e-219c0e34502c",
   "metadata": {},
   "source": [
    "## Count the total number of NaN entries in a randomly generated array."
   ]
  },
  {
   "cell_type": "code",
   "execution_count": 33,
   "id": "8d6744ee-0449-4c09-b3ee-09a8d682881f",
   "metadata": {},
   "outputs": [
    {
     "name": "stdout",
     "output_type": "stream",
     "text": [
      "[[0.12174562 0.86135831 0.44605662 0.83766139 0.08385317]\n",
      " [0.08131212 0.73878558 0.94387154 0.45034112 0.58184407]\n",
      " [0.52346115 0.89672779 0.21393838 0.84815627 0.73043943]\n",
      " [0.90422949 0.72256427 0.67609765 0.46138116 0.93602504]\n",
      " [0.18287254 0.6562311  0.31659901 0.8154666  0.34164588]]\n",
      "After nan\n",
      "[[0.12174562 0.86135831 0.44605662 0.83766139 0.08385317]\n",
      " [0.08131212 0.73878558 0.94387154 0.45034112 0.58184407]\n",
      " [0.52346115 0.89672779 0.21393838        nan 0.73043943]\n",
      " [0.90422949 0.72256427 0.67609765 0.46138116 0.93602504]\n",
      " [0.18287254        nan 0.31659901 0.8154666  0.34164588]]\n",
      "[[False False False False False]\n",
      " [False False False False False]\n",
      " [False False False  True False]\n",
      " [False False False False False]\n",
      " [False  True False False False]]\n",
      "2\n"
     ]
    }
   ],
   "source": [
    "rand_arr = np.random.rand(5,5)\n",
    "print(rand_arr)\n",
    "rand_arr[2,3] = np.nan\n",
    "rand_arr[4,1] = np.nan\n",
    "print('After nan')\n",
    "print(rand_arr)\n",
    "print(np.isnan(rand_arr))\n",
    "print(np.count_nonzero(np.isnan(rand_arr))) # count_nonzero(arr) counts non-zero elements in the array and it works along axis, axis=0 check columns, axis=1 is rows"
   ]
  },
  {
   "cell_type": "markdown",
   "id": "1a45b3d6-6bf5-4fff-bda7-27a5c2f3ad66",
   "metadata": {},
   "source": [
    "## Use masking to extract and list only the NaN elements from an array."
   ]
  },
  {
   "cell_type": "code",
   "execution_count": 41,
   "id": "598933ae-fa72-43ce-b1f5-5228797f5271",
   "metadata": {},
   "outputs": [
    {
     "name": "stdout",
     "output_type": "stream",
     "text": [
      "[[0.12174562 0.86135831 0.44605662 0.83766139 0.08385317]\n",
      " [0.08131212 0.73878558 0.94387154 0.45034112 0.58184407]\n",
      " [0.52346115 0.89672779 0.21393838        nan 0.73043943]\n",
      " [0.90422949 0.72256427 0.67609765 0.46138116 0.93602504]\n",
      " [0.18287254        nan 0.31659901 0.8154666  0.34164588]]\n",
      "[[False False False False False]\n",
      " [False False False False False]\n",
      " [False False False  True False]\n",
      " [False False False False False]\n",
      " [False  True False False False]]\n",
      "[nan nan]\n"
     ]
    }
   ],
   "source": [
    "print(rand_arr) # original array\n",
    "nan_arr = np.isnan(rand_arr) # get all nan bool array\n",
    "print(nan_arr)\n",
    "print(rand_arr[nan_arr]) # get values at that bool array using index at array"
   ]
  },
  {
   "cell_type": "markdown",
   "id": "3721492f-186e-44e3-8f18-a6d80577ec05",
   "metadata": {},
   "source": [
    "# 8. Test for Complex/Real/Scalar"
   ]
  },
  {
   "cell_type": "markdown",
   "id": "29eac44d-76bb-46d0-b80a-ababce2fb22a",
   "metadata": {},
   "source": [
    "## Write a NumPy program to test element-wise for complex numbers, real numbers in a given array. Also test if a given number is of a scalar type or not. "
   ]
  },
  {
   "cell_type": "code",
   "execution_count": 43,
   "id": "6558ed17-c3c2-417e-a866-4bb96f5e3133",
   "metadata": {},
   "outputs": [
    {
     "name": "stdout",
     "output_type": "stream",
     "text": [
      "[1. +0.j 2. +0.j 3. +0.j 4. +5.j 3.4+0.j]\n"
     ]
    }
   ],
   "source": [
    "arr1 = np.array([1,2,3,4+5j,3.4])\n",
    "print(arr1)"
   ]
  },
  {
   "cell_type": "code",
   "execution_count": 44,
   "id": "e0442d4c-ce3b-43ff-97a2-e30563dcce52",
   "metadata": {},
   "outputs": [
    {
     "data": {
      "text/plain": [
       "numpy.ndarray"
      ]
     },
     "execution_count": 44,
     "metadata": {},
     "output_type": "execute_result"
    }
   ],
   "source": [
    "type(arr1)"
   ]
  },
  {
   "cell_type": "code",
   "execution_count": 45,
   "id": "3e7e63c8-cc68-4eff-91c1-39d4cf4f55cf",
   "metadata": {},
   "outputs": [
    {
     "data": {
      "text/plain": [
       "dtype('complex128')"
      ]
     },
     "execution_count": 45,
     "metadata": {},
     "output_type": "execute_result"
    }
   ],
   "source": [
    "arr1.dtype"
   ]
  },
  {
   "cell_type": "markdown",
   "id": "99e8c3d3-37e3-4d38-9a75-8547e3decc79",
   "metadata": {},
   "source": [
    "#### create complex array using dtype = 'complex'"
   ]
  },
  {
   "cell_type": "code",
   "execution_count": 48,
   "id": "cb7e39c3-239f-4ea3-b191-6d16c548c83a",
   "metadata": {},
   "outputs": [],
   "source": [
    "comp_arr = np.array([1,2,3], dtype='complex')"
   ]
  },
  {
   "cell_type": "code",
   "execution_count": 56,
   "id": "f0a68fdf-e567-4c28-bef3-04828405632a",
   "metadata": {},
   "outputs": [
    {
     "data": {
      "text/plain": [
       "array([1.+0.j, 2.+0.j, 3.+4.j, 5.+0.j, 9.+4.j])"
      ]
     },
     "execution_count": 56,
     "metadata": {},
     "output_type": "execute_result"
    }
   ],
   "source": [
    "comp_arr1 = np.array([1,2,3+4j,5,9+4j])\n",
    "comp_arr1"
   ]
  },
  {
   "cell_type": "code",
   "execution_count": 57,
   "id": "7689aefc-e0c4-4f9b-8c8b-91a070539d09",
   "metadata": {},
   "outputs": [
    {
     "data": {
      "text/plain": [
       "array([False, False,  True, False,  True])"
      ]
     },
     "execution_count": 57,
     "metadata": {},
     "output_type": "execute_result"
    }
   ],
   "source": [
    "#check iscomplex\n",
    "res_comp = np.iscomplex(comp_arr1)\n",
    "res_comp"
   ]
  },
  {
   "cell_type": "code",
   "execution_count": 62,
   "id": "3bdd8241-d260-46fd-8258-c9bd33512b2d",
   "metadata": {},
   "outputs": [
    {
     "data": {
      "text/plain": [
       "array([ True,  True, False,  True, False])"
      ]
     },
     "execution_count": 62,
     "metadata": {},
     "output_type": "execute_result"
    }
   ],
   "source": [
    "#check if real using isreal\n",
    "res_real = np.isreal(comp_arr1)\n",
    "res_real"
   ]
  },
  {
   "cell_type": "code",
   "execution_count": 63,
   "id": "30b4a004-0053-453d-b50f-e407713efb83",
   "metadata": {},
   "outputs": [
    {
     "data": {
      "text/plain": [
       "True"
      ]
     },
     "execution_count": 63,
     "metadata": {},
     "output_type": "execute_result"
    }
   ],
   "source": [
    "#check if it is scalar\n",
    "res_scalar = np.isscalar(3.1)\n",
    "res_scalar"
   ]
  },
  {
   "cell_type": "code",
   "execution_count": 64,
   "id": "56b1d034-98ba-4eaa-94dd-3960f9b68448",
   "metadata": {},
   "outputs": [
    {
     "data": {
      "text/plain": [
       "False"
      ]
     },
     "execution_count": 64,
     "metadata": {},
     "output_type": "execute_result"
    }
   ],
   "source": [
    "#check array if it is scalar\n",
    "res_scal_arr = np.isscalar([4.6])\n",
    "res_scal_arr"
   ]
  },
  {
   "cell_type": "markdown",
   "id": "d3295896-ee54-47fd-bc11-77ebc7b8fb3b",
   "metadata": {},
   "source": [
    "# 9. Test Element-Wise Tolerance Equality"
   ]
  },
  {
   "cell_type": "markdown",
   "id": "c4be2815-dc76-40ea-9c15-ed87ccdd0f33",
   "metadata": {},
   "source": [
    "## Write a NumPy program to test whether two arrays are element-wise equal within a tolerance."
   ]
  },
  {
   "cell_type": "code",
   "execution_count": 65,
   "id": "80420d01-a11c-4597-aa32-cfce1f34ff1b",
   "metadata": {},
   "outputs": [
    {
     "name": "stdout",
     "output_type": "stream",
     "text": [
      "False\n"
     ]
    }
   ],
   "source": [
    "print(np.allclose([1e10,1e-7], [1.00001e10,1e-8]))\n"
   ]
  },
  {
   "cell_type": "code",
   "execution_count": 66,
   "id": "6554a490-f8d1-49b3-9cb4-9aaecea3f5a8",
   "metadata": {},
   "outputs": [
    {
     "name": "stdout",
     "output_type": "stream",
     "text": [
      "True\n"
     ]
    }
   ],
   "source": [
    "a = np.array([1.0, 2.0, 3.0])\n",
    "b = np.array([1.00001, 2.00002, 3.00003])\n",
    "c = np.array([1.1, 2.2, 3.3])\n",
    "print(np.allclose(a,b))"
   ]
  },
  {
   "cell_type": "code",
   "execution_count": 67,
   "id": "9e1428f9-5a19-4b1f-a512-22c7fea08134",
   "metadata": {},
   "outputs": [
    {
     "name": "stdout",
     "output_type": "stream",
     "text": [
      "False\n"
     ]
    }
   ],
   "source": [
    "print(np.allclose(a,c))"
   ]
  },
  {
   "cell_type": "code",
   "execution_count": 69,
   "id": "4cc521b9-98b7-4cad-b63e-7c7e7e3e166e",
   "metadata": {},
   "outputs": [
    {
     "name": "stdout",
     "output_type": "stream",
     "text": [
      "True\n"
     ]
    }
   ],
   "source": [
    "print(np.allclose(a,c,rtol=0.2,atol=0.2)) #rtol is relative tolerance(default 1e-05),atol absolute tolerance(default 1e-08)"
   ]
  },
  {
   "cell_type": "markdown",
   "id": "ad930b58-fd12-406e-bb15-8c8892c9f14a",
   "metadata": {},
   "source": [
    "# 10. Element-Wise Comparison (Greater/Less)"
   ]
  },
  {
   "cell_type": "markdown",
   "id": "b9393304-dcda-41fb-8cbc-a33277abd2ee",
   "metadata": {},
   "source": [
    "## Write a NumPy program to create an element-wise comparison (greater, greater_equal, less and less_equal) of two given arrays."
   ]
  },
  {
   "cell_type": "code",
   "execution_count": 74,
   "id": "5a0e91c7-7c1b-4a37-89ff-0076d1269e23",
   "metadata": {},
   "outputs": [
    {
     "name": "stdout",
     "output_type": "stream",
     "text": [
      "Array1 is greater than Array2\n",
      "[False False False]\n",
      "Array1 is less than Array2\n",
      "[False  True False]\n",
      "Array1 is greater than equal to Array2\n",
      "[ True False  True]\n",
      "Array 1 is less than equal to Array2\n",
      "[ True  True  True]\n"
     ]
    }
   ],
   "source": [
    "arr1 = np.array([1,2,3])\n",
    "arr2 = np.array([1,3,3])\n",
    "#Greater\n",
    "print('Array1 is greater than Array2')\n",
    "print(arr1>arr2)\n",
    "#Less than\n",
    "print('Array1 is less than Array2')\n",
    "print(arr1<arr2)\n",
    "#Greater Equal to\n",
    "print('Array1 is greater than equal to Array2')\n",
    "print(arr1 >= arr2)\n",
    "print('Array 1 is less than equal to Array2')\n",
    "print(arr1<=arr2)"
   ]
  },
  {
   "cell_type": "code",
   "execution_count": null,
   "id": "dde4c6a6-ebe9-4018-b082-1349f2bf90e6",
   "metadata": {},
   "outputs": [],
   "source": []
  }
 ],
 "metadata": {
  "kernelspec": {
   "display_name": "Python 3 (ipykernel)",
   "language": "python",
   "name": "python3"
  },
  "language_info": {
   "codemirror_mode": {
    "name": "ipython",
    "version": 3
   },
   "file_extension": ".py",
   "mimetype": "text/x-python",
   "name": "python",
   "nbconvert_exporter": "python",
   "pygments_lexer": "ipython3",
   "version": "3.8.10"
  }
 },
 "nbformat": 4,
 "nbformat_minor": 5
}
