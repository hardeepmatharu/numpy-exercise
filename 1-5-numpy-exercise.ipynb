{
 "cells": [
  {
   "cell_type": "code",
   "execution_count": 1,
   "id": "10cd44dc-86d0-41d0-bbf9-45e4251838b3",
   "metadata": {},
   "outputs": [],
   "source": [
    "import numpy as np"
   ]
  },
  {
   "cell_type": "markdown",
   "id": "3d51faa6-fd73-4886-87f6-6001c6e58f90",
   "metadata": {},
   "source": [
    "# 1. Get NumPy Version & Build Info"
   ]
  },
  {
   "cell_type": "code",
   "execution_count": 2,
   "id": "180c7139-1d54-4aed-b28c-b2e5eaf5accd",
   "metadata": {},
   "outputs": [
    {
     "data": {
      "text/plain": [
       "'1.24.4'"
      ]
     },
     "execution_count": 2,
     "metadata": {},
     "output_type": "execute_result"
    }
   ],
   "source": [
    "np.__version__"
   ]
  },
  {
   "cell_type": "code",
   "execution_count": 6,
   "id": "4a02798a-6a39-427c-92f7-909134542b4f",
   "metadata": {},
   "outputs": [
    {
     "name": "stdout",
     "output_type": "stream",
     "text": [
      "openblas64__info:\n",
      "    libraries = ['openblas64_', 'openblas64_']\n",
      "    library_dirs = ['/usr/local/lib']\n",
      "    language = c\n",
      "    define_macros = [('HAVE_CBLAS', None), ('BLAS_SYMBOL_SUFFIX', '64_'), ('HAVE_BLAS_ILP64', None)]\n",
      "    runtime_library_dirs = ['/usr/local/lib']\n",
      "blas_ilp64_opt_info:\n",
      "    libraries = ['openblas64_', 'openblas64_']\n",
      "    library_dirs = ['/usr/local/lib']\n",
      "    language = c\n",
      "    define_macros = [('HAVE_CBLAS', None), ('BLAS_SYMBOL_SUFFIX', '64_'), ('HAVE_BLAS_ILP64', None)]\n",
      "    runtime_library_dirs = ['/usr/local/lib']\n",
      "openblas64__lapack_info:\n",
      "    libraries = ['openblas64_', 'openblas64_']\n",
      "    library_dirs = ['/usr/local/lib']\n",
      "    language = c\n",
      "    define_macros = [('HAVE_CBLAS', None), ('BLAS_SYMBOL_SUFFIX', '64_'), ('HAVE_BLAS_ILP64', None), ('HAVE_LAPACKE', None)]\n",
      "    runtime_library_dirs = ['/usr/local/lib']\n",
      "lapack_ilp64_opt_info:\n",
      "    libraries = ['openblas64_', 'openblas64_']\n",
      "    library_dirs = ['/usr/local/lib']\n",
      "    language = c\n",
      "    define_macros = [('HAVE_CBLAS', None), ('BLAS_SYMBOL_SUFFIX', '64_'), ('HAVE_BLAS_ILP64', None), ('HAVE_LAPACKE', None)]\n",
      "    runtime_library_dirs = ['/usr/local/lib']\n",
      "Supported SIMD extensions in this NumPy install:\n",
      "    baseline = SSE,SSE2,SSE3\n",
      "    found = SSSE3,SSE41,POPCNT,SSE42,AVX,F16C,FMA3,AVX2\n",
      "    not found = AVX512F,AVX512CD,AVX512_KNL,AVX512_KNM,AVX512_SKX,AVX512_CLX,AVX512_CNL,AVX512_ICL\n"
     ]
    }
   ],
   "source": [
    "np.show_config()"
   ]
  },
  {
   "cell_type": "markdown",
   "id": "2f52b9f4-bf00-4a36-89ab-ec60bd0e9f69",
   "metadata": {},
   "source": [
    "# 2. Help for NumPy Add Function"
   ]
  },
  {
   "cell_type": "markdown",
   "id": "747ff51b-d2db-4f95-90b0-d7d0d155c3d7",
   "metadata": {},
   "source": [
    "## Write a NumPy program to get help with the add function."
   ]
  },
  {
   "cell_type": "markdown",
   "id": "becad5ff-d6f6-45d8-98cc-0b1105391cd1",
   "metadata": {},
   "source": [
    "### Printing the information about add function using info method of NumPy, it is a way to get documentation while coding"
   ]
  },
  {
   "cell_type": "code",
   "execution_count": 8,
   "id": "c2a6a997-9af8-4d7d-b86d-8732b0523526",
   "metadata": {},
   "outputs": [
    {
     "name": "stdout",
     "output_type": "stream",
     "text": [
      "add(x1, x2, /, out=None, *, where=True, casting='same_kind', order='K', dtype=None, subok=True[, signature, extobj])\n",
      "\n",
      "Add arguments element-wise.\n",
      "\n",
      "Parameters\n",
      "----------\n",
      "x1, x2 : array_like\n",
      "    The arrays to be added.\n",
      "    If ``x1.shape != x2.shape``, they must be broadcastable to a common\n",
      "    shape (which becomes the shape of the output).\n",
      "out : ndarray, None, or tuple of ndarray and None, optional\n",
      "    A location into which the result is stored. If provided, it must have\n",
      "    a shape that the inputs broadcast to. If not provided or None,\n",
      "    a freshly-allocated array is returned. A tuple (possible only as a\n",
      "    keyword argument) must have length equal to the number of outputs.\n",
      "where : array_like, optional\n",
      "    This condition is broadcast over the input. At locations where the\n",
      "    condition is True, the `out` array will be set to the ufunc result.\n",
      "    Elsewhere, the `out` array will retain its original value.\n",
      "    Note that if an uninitialized `out` array is created via the default\n",
      "    ``out=None``, locations within it where the condition is False will\n",
      "    remain uninitialized.\n",
      "**kwargs\n",
      "    For other keyword-only arguments, see the\n",
      "    :ref:`ufunc docs <ufuncs.kwargs>`.\n",
      "\n",
      "Returns\n",
      "-------\n",
      "add : ndarray or scalar\n",
      "    The sum of `x1` and `x2`, element-wise.\n",
      "    This is a scalar if both `x1` and `x2` are scalars.\n",
      "\n",
      "Notes\n",
      "-----\n",
      "Equivalent to `x1` + `x2` in terms of array broadcasting.\n",
      "\n",
      "Examples\n",
      "--------\n",
      ">>> np.add(1.0, 4.0)\n",
      "5.0\n",
      ">>> x1 = np.arange(9.0).reshape((3, 3))\n",
      ">>> x2 = np.arange(3.0)\n",
      ">>> np.add(x1, x2)\n",
      "array([[  0.,   2.,   4.],\n",
      "       [  3.,   5.,   7.],\n",
      "       [  6.,   8.,  10.]])\n",
      "\n",
      "The ``+`` operator can be used as a shorthand for ``np.add`` on ndarrays.\n",
      "\n",
      ">>> x1 = np.arange(9.0).reshape((3, 3))\n",
      ">>> x2 = np.arange(3.0)\n",
      ">>> x1 + x2\n",
      "array([[ 0.,  2.,  4.],\n",
      "       [ 3.,  5.,  7.],\n",
      "       [ 6.,  8., 10.]])\n"
     ]
    }
   ],
   "source": [
    "np.info(np.add)"
   ]
  },
  {
   "cell_type": "markdown",
   "id": "96ca7f8c-18e9-4427-b7d4-e6f7cfb25262",
   "metadata": {},
   "source": [
    "# 3. Test None are Zero"
   ]
  },
  {
   "cell_type": "markdown",
   "id": "f4c373ba-8940-4cd5-b8bd-2575cc9aeeea",
   "metadata": {},
   "source": [
    "## Write a NumPy program to test whether none of the elements of a given array are zero. "
   ]
  },
  {
   "cell_type": "code",
   "execution_count": 38,
   "id": "66e1861b-e112-45ba-ac05-4335f5961a34",
   "metadata": {},
   "outputs": [
    {
     "name": "stdout",
     "output_type": "stream",
     "text": [
      "All are non zero elements.\n"
     ]
    }
   ],
   "source": [
    "np_arr = np.array([7,8,9])\n",
    "if np.all(np_arr):\n",
    "    print('All are non zero elements.')\n",
    "else:\n",
    "    print('Some are zero elements in the array.')"
   ]
  },
  {
   "cell_type": "markdown",
   "id": "d46a91f5-35be-436f-b892-e15f07689939",
   "metadata": {},
   "source": [
    "# 4. Test Any Non-Zero"
   ]
  },
  {
   "cell_type": "markdown",
   "id": "90979a30-3931-4f41-ad92-506d8a054f6c",
   "metadata": {},
   "source": [
    "# Write a NumPy program to test if any of the elements of a given array are non-zero. "
   ]
  },
  {
   "cell_type": "code",
   "execution_count": 39,
   "id": "276f1e98-0d16-4660-81f6-e2693878e060",
   "metadata": {},
   "outputs": [
    {
     "name": "stdout",
     "output_type": "stream",
     "text": [
      "[0 8 0]\n",
      "There are non-zero elements in the array.\n"
     ]
    }
   ],
   "source": [
    "np_arr = np.array([0,8,0])\n",
    "print(np_arr)\n",
    "if np.any(np_arr):\n",
    "    print('There are non-zero elements in the array.')\n",
    "else:\n",
    "    print('All are zero elements.')"
   ]
  },
  {
   "cell_type": "markdown",
   "id": "9c08d7dd-7d8c-4f72-b096-65584870b669",
   "metadata": {},
   "source": [
    "# 5. Test Finiteness of Elements"
   ]
  },
  {
   "cell_type": "markdown",
   "id": "d89d0fb6-6c97-4610-86dc-8425c655bf95",
   "metadata": {},
   "source": [
    "## Write a NumPy program to test a given array element-wise for finiteness (not infinity or not a number)."
   ]
  },
  {
   "cell_type": "code",
   "execution_count": 42,
   "id": "049beb19-9f64-4995-bd11-c92312927b3b",
   "metadata": {},
   "outputs": [
    {
     "data": {
      "text/plain": [
       "array([ True,  True,  True, False, False])"
      ]
     },
     "execution_count": 42,
     "metadata": {},
     "output_type": "execute_result"
    }
   ],
   "source": [
    "arr = np.array([1,2,3,np.nan, np.inf])\n",
    "np.isfinite(arr) # isfinite method does element wise operation, very useful for testing dataset before performing mathematical operations"
   ]
  },
  {
   "cell_type": "code",
   "execution_count": null,
   "id": "403e60c0-6b79-4eee-9eb0-f63c4f17f389",
   "metadata": {},
   "outputs": [],
   "source": []
  }
 ],
 "metadata": {
  "kernelspec": {
   "display_name": "Python 3 (ipykernel)",
   "language": "python",
   "name": "python3"
  },
  "language_info": {
   "codemirror_mode": {
    "name": "ipython",
    "version": 3
   },
   "file_extension": ".py",
   "mimetype": "text/x-python",
   "name": "python",
   "nbconvert_exporter": "python",
   "pygments_lexer": "ipython3",
   "version": "3.8.10"
  }
 },
 "nbformat": 4,
 "nbformat_minor": 5
}
